{
 "cells": [
  {
   "cell_type": "markdown",
   "id": "1",
   "metadata": {},
   "source": [
    "# Wasabi S3 Storage with PySpark\n",
    "\n",
    "This notebook demonstrates how to read and write data to Wasabi S3-compatible storage using PySpark.\n",
    "\n",
    "## Prerequisites\n",
    "- Wasabi credentials configured in `.env` file\n",
    "- Hadoop AWS JARs installed (automatically included in Docker image)"
   ]
  },
  {
   "cell_type": "code",
   "execution_count": 1,
   "id": "2",
   "metadata": {},
   "outputs": [
    {
     "name": "stderr",
     "output_type": "stream",
     "text": [
      "WARNING: Using incubator modules: jdk.incubator.vector\n",
      "Using Spark's default log4j profile: org/apache/spark/log4j2-defaults.properties\n",
      "Setting default log level to \"WARN\".\n",
      "To adjust logging level use sc.setLogLevel(newLevel). For SparkR, use setLogLevel(newLevel).\n",
      "25/10/05 20:20:07 WARN NativeCodeLoader: Unable to load native-hadoop library for your platform... using builtin-java classes where applicable\n"
     ]
    },
    {
     "name": "stdout",
     "output_type": "stream",
     "text": [
      "Spark version: 4.0.0\n",
      "S3A endpoint: s3.us-east-2.wasabisys.com\n",
      "S3A configured: ✓\n"
     ]
    }
   ],
   "source": [
    "from pyspark.sql import SparkSession\n",
    "import os\n",
    "\n",
    "# Get Wasabi credentials from environment\n",
    "wasabi_endpoint = os.getenv('WASABI_ENDPOINT', 's3.wasabisys.com')\n",
    "wasabi_access_key = os.getenv('WASABI_ACCESS_KEY')\n",
    "wasabi_secret_key = os.getenv('WASABI_SECRET_KEY')\n",
    "\n",
    "# Create a Spark session with S3A configuration\n",
    "# Here some problems with compatibility of versions of hadoop(?)\n",
    "# so some time values by default stored like 60s, but it trying to read\n",
    "# it in ms, so i it can't convert '60s' to number and spark nodes down,\n",
    "# so need to set it as numbers\n",
    "spark = SparkSession.builder \\\n",
    "    .appName(\"Wasabi S3 Example\") \\\n",
    "    .master(\"spark://spark-master:7077\") \\\n",
    "    .config(\"spark.hadoop.fs.s3a.endpoint\", wasabi_endpoint) \\\n",
    "    .config(\"spark.hadoop.fs.s3a.access.key\", wasabi_access_key) \\\n",
    "    .config(\"spark.hadoop.fs.s3a.secret.key\", wasabi_secret_key) \\\n",
    "    .config(\"spark.hadoop.fs.s3a.path.style.access\", \"true\") \\\n",
    "    .config(\"spark.hadoop.fs.s3a.impl\", \"org.apache.hadoop.fs.s3a.S3AFileSystem\") \\\n",
    "    .config(\"spark.hadoop.fs.s3a.aws.credentials.provider\", \"org.apache.hadoop.fs.s3a.SimpleAWSCredentialsProvider\") \\\n",
    "    .config(\"spark.hadoop.fs.s3a.connection.establish.timeout\", \"30000\") \\\n",
    "    .config(\"spark.hadoop.fs.s3a.connection.timeout\", \"200000\") \\\n",
    "    .config(\"spark.hadoop.fs.s3a.connection.request.timeout\", \"0\") \\\n",
    "    .config(\"spark.hadoop.fs.s3a.connection.ttl\", \"300000\") \\\n",
    "    .config(\"spark.hadoop.fs.s3a.retry.throttle.interval\", \"1000\") \\\n",
    "    .config(\"spark.hadoop.fs.s3a.threads.keepalivetime\", \"60\") \\\n",
    "    .config(\"spark.hadoop.fs.s3a.assumed.role.session.duration\", \"1800000\") \\\n",
    "    .config(\"spark.hadoop.fs.s3a.multipart.purge.age\", \"86400000\") \\\n",
    "    .getOrCreate()\n",
    "\n",
    "print(f\"Spark version: {spark.version}\")\n",
    "print(f\"S3A endpoint: {wasabi_endpoint}\")\n",
    "print(f\"S3A configured: ✓\")"
   ]
  },
  {
   "cell_type": "markdown",
   "id": "3",
   "metadata": {},
   "source": [
    "## Create Sample Data"
   ]
  },
  {
   "cell_type": "code",
   "execution_count": 2,
   "id": "4",
   "metadata": {},
   "outputs": [
    {
     "name": "stderr",
     "output_type": "stream",
     "text": [
      "[Stage 1:=============================>                             (2 + 2) / 4]"
     ]
    },
    {
     "name": "stdout",
     "output_type": "stream",
     "text": [
      "+---+-------+---+-----------+\n",
      "| id|   name|age| department|\n",
      "+---+-------+---+-----------+\n",
      "|  1|  Alice| 25|Engineering|\n",
      "|  2|    Bob| 30|  Marketing|\n",
      "|  3|Charlie| 35|      Sales|\n",
      "|  4|  Diana| 28|Engineering|\n",
      "|  5|    Eve| 32|         HR|\n",
      "+---+-------+---+-----------+\n",
      "\n",
      "root\n",
      " |-- id: long (nullable = true)\n",
      " |-- name: string (nullable = true)\n",
      " |-- age: long (nullable = true)\n",
      " |-- department: string (nullable = true)\n",
      "\n"
     ]
    },
    {
     "name": "stderr",
     "output_type": "stream",
     "text": [
      "                                                                                "
     ]
    }
   ],
   "source": [
    "# Create a sample DataFrame\n",
    "data = [\n",
    "    (1, \"Alice\", 25, \"Engineering\"),\n",
    "    (2, \"Bob\", 30, \"Marketing\"),\n",
    "    (3, \"Charlie\", 35, \"Sales\"),\n",
    "    (4, \"Diana\", 28, \"Engineering\"),\n",
    "    (5, \"Eve\", 32, \"HR\")\n",
    "]\n",
    "\n",
    "columns = [\"id\", \"name\", \"age\", \"department\"]\n",
    "df = spark.createDataFrame(data, columns)\n",
    "\n",
    "df.show()\n",
    "df.printSchema()"
   ]
  },
  {
   "cell_type": "markdown",
   "id": "5",
   "metadata": {},
   "source": [
    "## Write Data to Wasabi\n",
    "\n",
    "Replace `your-bucket-name` with your actual Wasabi bucket name."
   ]
  },
  {
   "cell_type": "code",
   "execution_count": 3,
   "id": "6",
   "metadata": {},
   "outputs": [
    {
     "name": "stdout",
     "output_type": "stream",
     "text": [
      "Writing data to: s3a://dfscrunch-data-lake/examples/employees\n"
     ]
    },
    {
     "name": "stderr",
     "output_type": "stream",
     "text": [
      "25/10/05 20:20:13 WARN MetricsConfig: Cannot locate configuration: tried hadoop-metrics2-s3a-file-system.properties,hadoop-metrics2.properties\n",
      "25/10/05 20:20:15 WARN Base64: JAXB is unavailable. Will fallback to SDK implementation which may be less performant.If you are using Java 9+, you will need to include javax.xml.bind:jaxb-api as a dependency.\n",
      "                                                                                "
     ]
    },
    {
     "name": "stdout",
     "output_type": "stream",
     "text": [
      "Data written successfully!\n"
     ]
    }
   ],
   "source": [
    "# Write to Wasabi in Parquet format\n",
    "# NOTE: Replace 'your-bucket-name' with your actual bucket name\n",
    "bucket_name = \"dfscrunch-data-lake\"\n",
    "output_path = f\"s3a://{bucket_name}/examples/employees\"\n",
    "\n",
    "print(f\"Writing data to: {output_path}\")\n",
    "\n",
    "df.write \\\n",
    "    .mode(\"overwrite\") \\\n",
    "    .parquet(output_path)\n",
    "\n",
    "print(\"Data written successfully!\")"
   ]
  },
  {
   "cell_type": "markdown",
   "id": "7",
   "metadata": {},
   "source": [
    "## Read Data from Wasabi"
   ]
  },
  {
   "cell_type": "code",
   "execution_count": 4,
   "id": "8",
   "metadata": {},
   "outputs": [
    {
     "name": "stdout",
     "output_type": "stream",
     "text": [
      "Reading data from: s3a://dfscrunch-data-lake/examples/employees\n",
      "\n",
      "Data read from Wasabi:\n"
     ]
    },
    {
     "name": "stderr",
     "output_type": "stream",
     "text": [
      "                                                                                "
     ]
    },
    {
     "name": "stdout",
     "output_type": "stream",
     "text": [
      "+---+-------+---+-----------+\n",
      "| id|   name|age| department|\n",
      "+---+-------+---+-----------+\n",
      "|  1|  Alice| 25|Engineering|\n",
      "|  4|  Diana| 28|Engineering|\n",
      "|  3|Charlie| 35|      Sales|\n",
      "|  2|    Bob| 30|  Marketing|\n",
      "|  5|    Eve| 32|         HR|\n",
      "+---+-------+---+-----------+\n",
      "\n"
     ]
    },
    {
     "name": "stderr",
     "output_type": "stream",
     "text": [
      "[Stage 8:=================================================>         (5 + 1) / 6]"
     ]
    },
    {
     "name": "stdout",
     "output_type": "stream",
     "text": [
      "\n",
      "Total records: 5\n"
     ]
    },
    {
     "name": "stderr",
     "output_type": "stream",
     "text": [
      "                                                                                "
     ]
    }
   ],
   "source": [
    "# Read the data back from Wasabi\n",
    "print(f\"Reading data from: {output_path}\")\n",
    "\n",
    "df_read = spark.read.parquet(output_path)\n",
    "\n",
    "print(\"\\nData read from Wasabi:\")\n",
    "df_read.show()\n",
    "\n",
    "print(f\"\\nTotal records: {df_read.count()}\")"
   ]
  },
  {
   "cell_type": "markdown",
   "id": "9",
   "metadata": {},
   "source": [
    "## Perform Transformations and Write Back"
   ]
  },
  {
   "cell_type": "code",
   "execution_count": 5,
   "id": "10",
   "metadata": {},
   "outputs": [
    {
     "name": "stdout",
     "output_type": "stream",
     "text": [
      "Filtered Engineers:\n"
     ]
    },
    {
     "name": "stderr",
     "output_type": "stream",
     "text": [
      "                                                                                "
     ]
    },
    {
     "name": "stdout",
     "output_type": "stream",
     "text": [
      "+---+-----+---+-----------+----------+\n",
      "| id| name|age| department|name_upper|\n",
      "+---+-----+---+-----------+----------+\n",
      "|  1|Alice| 25|Engineering|     ALICE|\n",
      "|  4|Diana| 28|Engineering|     DIANA|\n",
      "+---+-----+---+-----------+----------+\n",
      "\n",
      "\n",
      "Writing engineers data to: s3a://dfscrunch-data-lake/examples/engineers\n"
     ]
    },
    {
     "name": "stderr",
     "output_type": "stream",
     "text": [
      "                                                                                "
     ]
    },
    {
     "name": "stdout",
     "output_type": "stream",
     "text": [
      "Engineers data written successfully!\n"
     ]
    }
   ],
   "source": [
    "# Filter and transform data\n",
    "from pyspark.sql.functions import col, upper\n",
    "\n",
    "df_engineers = df_read \\\n",
    "    .filter(col(\"department\") == \"Engineering\") \\\n",
    "    .withColumn(\"name_upper\", upper(col(\"name\")))\n",
    "\n",
    "print(\"Filtered Engineers:\")\n",
    "df_engineers.show()\n",
    "\n",
    "# Write filtered data to a different path\n",
    "engineers_path = f\"s3a://{bucket_name}/examples/engineers\"\n",
    "print(f\"\\nWriting engineers data to: {engineers_path}\")\n",
    "\n",
    "df_engineers.write \\\n",
    "    .mode(\"overwrite\") \\\n",
    "    .parquet(engineers_path)\n",
    "\n",
    "print(\"Engineers data written successfully!\")"
   ]
  },
  {
   "cell_type": "markdown",
   "id": "11",
   "metadata": {},
   "source": [
    "## Write in Different Formats"
   ]
  },
  {
   "cell_type": "code",
   "execution_count": null,
   "id": "12",
   "metadata": {},
   "outputs": [
    {
     "name": "stderr",
     "output_type": "stream",
     "text": [
      "25/10/05 20:21:37 WARN AbstractS3ACommitterFactory: Using standard FileOutputCommitter to commit work. This is slow and potentially unsafe.\n",
      "                                                                                "
     ]
    }
   ],
   "source": [
    "# Write as CSV\n",
    "csv_path = f\"s3a://{bucket_name}/examples/employees_csv\"\n",
    "df.write \\\n",
    "    .mode(\"overwrite\") \\\n",
    "    .option(\"header\", \"true\") \\\n",
    "    .csv(csv_path)\n",
    "print(f\"CSV written to: {csv_path}\")\n",
    "\n",
    "# Write as JSON\n",
    "json_path = f\"s3a://{bucket_name}/examples/employees_json\"\n",
    "df.write \\\n",
    "    .mode(\"overwrite\") \\\n",
    "    .json(json_path)\n",
    "print(f\"JSON written to: {json_path}\")"
   ]
  },
  {
   "cell_type": "markdown",
   "id": "13",
   "metadata": {},
   "source": [
    "## Error Handling Example"
   ]
  },
  {
   "cell_type": "code",
   "execution_count": null,
   "id": "14",
   "metadata": {},
   "outputs": [],
   "source": [
    "# Example of handling missing files\n",
    "try:\n",
    "    non_existent_path = f\"s3a://{bucket_name}/non-existent-path\"\n",
    "    df_test = spark.read.parquet(non_existent_path)\n",
    "except Exception as e:\n",
    "    print(f\"Expected error: {type(e).__name__}\")\n",
    "    print(f\"Message: {str(e)[:100]}...\")"
   ]
  },
  {
   "cell_type": "markdown",
   "id": "15",
   "metadata": {},
   "source": [
    "## Cleanup"
   ]
  },
  {
   "cell_type": "code",
   "execution_count": null,
   "id": "16",
   "metadata": {},
   "outputs": [],
   "source": [
    "# Stop Spark session\n",
    "spark.stop()\n",
    "print(\"Spark session stopped\")"
   ]
  }
 ],
 "metadata": {
  "kernelspec": {
   "display_name": "Python 3 (ipykernel)",
   "language": "python",
   "name": "python3"
  },
  "language_info": {
   "codemirror_mode": {
    "name": "ipython",
    "version": 3
   },
   "file_extension": ".py",
   "mimetype": "text/x-python",
   "name": "python",
   "nbconvert_exporter": "python",
   "pygments_lexer": "ipython3",
   "version": "3.10.12"
  }
 },
 "nbformat": 4,
 "nbformat_minor": 5
}
