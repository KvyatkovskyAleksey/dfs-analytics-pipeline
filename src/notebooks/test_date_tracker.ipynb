{
 "cells": [
  {
   "cell_type": "markdown",
   "id": "1",
   "metadata": {},
   "source": [
    "# DateTracker Testing\n",
    "\n",
    "Test the DateTracker class to verify S3 read/write functionality."
   ]
  },
  {
   "cell_type": "code",
   "id": "2",
   "metadata": {
    "ExecuteTime": {
     "end_time": "2025-10-07T19:48:02.188045Z",
     "start_time": "2025-10-07T19:48:01.177579Z"
    }
   },
   "source": [
    "import sys\n",
    "sys.path.insert(0, '/opt/notebooks')\n",
    "\n",
    "from scripts.date_tracker import DateTracker"
   ],
   "outputs": [],
   "execution_count": 1
  },
  {
   "cell_type": "markdown",
   "id": "3",
   "metadata": {},
   "source": [
    "## Test 1: Initialize DateTracker\n",
    "\n",
    "Create a new tracker for NFL. This should:\n",
    "- Connect to S3\n",
    "- Try to load existing tracking file\n",
    "- Return empty list if file doesn't exist"
   ]
  },
  {
   "cell_type": "code",
   "id": "4",
   "metadata": {
    "ExecuteTime": {
     "end_time": "2025-10-07T19:48:04.395976Z",
     "start_time": "2025-10-07T19:48:02.402422Z"
    }
   },
   "source": [
    "tracker = DateTracker(sport=\"NFL\")\n",
    "print(\"Tracker initialized successfully!\")\n",
    "print(f\"S3 path: {tracker.s3_path}\")\n",
    "print(f\"Currently scraped dates: {tracker.get_all_scraped()}\")"
   ],
   "outputs": [
    {
     "name": "stdout",
     "output_type": "stream",
     "text": [
      "Tracker initialized successfully!\n",
      "S3 path: s3://dfscrunch-data-lake/staging/metadata/NFL/scraped_dates.json\n",
      "Currently scraped dates: []\n"
     ]
    }
   ],
   "execution_count": 2
  },
  {
   "cell_type": "markdown",
   "id": "5",
   "metadata": {},
   "source": [
    "## Test 2: Check if Date is Scraped\n",
    "\n",
    "Test the `is_scraped()` method with a date that hasn't been scraped."
   ]
  },
  {
   "cell_type": "code",
   "id": "6",
   "metadata": {
    "ExecuteTime": {
     "end_time": "2025-10-07T19:48:04.434381Z",
     "start_time": "2025-10-07T19:48:04.432045Z"
    }
   },
   "source": [
    "test_date = \"2025-09-01\"\n",
    "is_scraped = tracker.is_scraped(test_date)\n",
    "print(f\"Is {test_date} scraped? {is_scraped}\")"
   ],
   "outputs": [
    {
     "name": "stdout",
     "output_type": "stream",
     "text": [
      "Is 2025-09-01 scraped? False\n"
     ]
    }
   ],
   "execution_count": 3
  },
  {
   "cell_type": "markdown",
   "id": "7",
   "metadata": {},
   "source": [
    "## Test 3: Mark Date as Scraped\n",
    "\n",
    "Mark a date as scraped and verify it persists to S3."
   ]
  },
  {
   "cell_type": "code",
   "id": "8",
   "metadata": {
    "ExecuteTime": {
     "end_time": "2025-10-07T19:48:05.524516Z",
     "start_time": "2025-10-07T19:48:04.496138Z"
    }
   },
   "source": [
    "tracker.mark_scraped(test_date)\n",
    "print(f\"Marked {test_date} as scraped\")\n",
    "print(f\"All scraped dates: {tracker.get_all_scraped()}\")"
   ],
   "outputs": [
    {
     "name": "stdout",
     "output_type": "stream",
     "text": [
      "Marked 2025-09-01 as scraped\n",
      "All scraped dates: ['2025-09-01']\n"
     ]
    }
   ],
   "execution_count": 4
  },
  {
   "cell_type": "markdown",
   "id": "9",
   "metadata": {},
   "source": [
    "## Test 4: Verify Persistence\n",
    "\n",
    "Create a NEW tracker instance to verify the date persisted to S3."
   ]
  },
  {
   "cell_type": "code",
   "id": "10",
   "metadata": {
    "ExecuteTime": {
     "end_time": "2025-10-07T19:48:05.889030Z",
     "start_time": "2025-10-07T19:48:05.589676Z"
    }
   },
   "source": [
    "tracker2 = DateTracker(sport=\"NFL\")\n",
    "print(f\"New tracker instance loaded dates: {tracker2.get_all_scraped()}\")\n",
    "print(f\"Is {test_date} scraped in new instance? {tracker2.is_scraped(test_date)}\")"
   ],
   "outputs": [
    {
     "name": "stdout",
     "output_type": "stream",
     "text": [
      "New tracker instance loaded dates: ['2025-09-01']\n",
      "Is 2025-09-01 scraped in new instance? True\n"
     ]
    }
   ],
   "execution_count": 5
  },
  {
   "cell_type": "markdown",
   "id": "11",
   "metadata": {},
   "source": [
    "## Test 5: Mark Multiple Dates\n",
    "\n",
    "Add several dates to test sorting and deduplication."
   ]
  },
  {
   "cell_type": "code",
   "id": "12",
   "metadata": {
    "ExecuteTime": {
     "end_time": "2025-10-07T19:48:10.161825Z",
     "start_time": "2025-10-07T19:48:05.906350Z"
    }
   },
   "source": [
    "dates_to_add = [\"2025-09-05\", \"2025-09-03\", \"2025-09-02\", \"2025-09-04\"]\n",
    "\n",
    "for date in dates_to_add:\n",
    "    tracker.mark_scraped(date)\n",
    "    print(f\"Added {date}\")\n",
    "\n",
    "print(f\"\\nAll scraped dates (should be sorted): {tracker.get_all_scraped()}\")"
   ],
   "outputs": [
    {
     "name": "stdout",
     "output_type": "stream",
     "text": [
      "Added 2025-09-05\n",
      "Added 2025-09-03\n",
      "Added 2025-09-02\n",
      "Added 2025-09-04\n",
      "\n",
      "All scraped dates (should be sorted): ['2025-09-01', '2025-09-02', '2025-09-03', '2025-09-04', '2025-09-05']\n"
     ]
    }
   ],
   "execution_count": 6
  },
  {
   "cell_type": "markdown",
   "id": "13",
   "metadata": {},
   "source": [
    "## Test 6: Try to Add Duplicate\n",
    "\n",
    "Adding the same date twice should not create duplicates."
   ]
  },
  {
   "cell_type": "code",
   "id": "14",
   "metadata": {
    "ExecuteTime": {
     "end_time": "2025-10-07T19:48:10.182442Z",
     "start_time": "2025-10-07T19:48:10.179584Z"
    }
   },
   "source": [
    "before_count = len(tracker.get_all_scraped())\n",
    "tracker.mark_scraped(\"2025-09-03\")  # Already added above\n",
    "after_count = len(tracker.get_all_scraped())\n",
    "\n",
    "print(f\"Before: {before_count} dates, After: {after_count} dates\")\n",
    "print(f\"Duplicate handled correctly: {before_count == after_count}\")\n",
    "print(f\"All dates: {tracker.get_all_scraped()}\")"
   ],
   "outputs": [
    {
     "name": "stdout",
     "output_type": "stream",
     "text": [
      "Before: 5 dates, After: 5 dates\n",
      "Duplicate handled correctly: True\n",
      "All dates: ['2025-09-01', '2025-09-02', '2025-09-03', '2025-09-04', '2025-09-05']\n"
     ]
    }
   ],
   "execution_count": 7
  },
  {
   "cell_type": "markdown",
   "id": "15",
   "metadata": {},
   "source": [
    "## Test 7: Check S3 File Directly\n",
    "\n",
    "Read the S3 file directly to verify the JSON structure."
   ]
  },
  {
   "cell_type": "code",
   "id": "16",
   "metadata": {
    "ExecuteTime": {
     "end_time": "2025-10-07T19:48:10.495766Z",
     "start_time": "2025-10-07T19:48:10.200759Z"
    }
   },
   "source": [
    "import json\n",
    "import pandas as pd\n",
    "\n",
    "# Read the file directly\n",
    "with pd.io.common.get_handle(\n",
    "    tracker.s3_path, mode=\"r\", storage_options=tracker.storage_options\n",
    ") as handles:\n",
    "    raw_content = handles.handle.read()\n",
    "    print(\"Raw S3 file content:\")\n",
    "    print(raw_content)"
   ],
   "outputs": [
    {
     "name": "stdout",
     "output_type": "stream",
     "text": [
      "Raw S3 file content:\n",
      "[\n",
      "  \"2025-09-01\",\n",
      "  \"2025-09-02\",\n",
      "  \"2025-09-03\",\n",
      "  \"2025-09-04\",\n",
      "  \"2025-09-05\"\n",
      "]\n"
     ]
    }
   ],
   "execution_count": 8
  },
  {
   "cell_type": "markdown",
   "id": "17",
   "metadata": {},
   "source": [
    "## Summary\n",
    "\n",
    "If all tests above pass:\n",
    "- ✅ DateTracker can initialize and connect to S3\n",
    "- ✅ Can check if dates are scraped\n",
    "- ✅ Can mark dates as scraped\n",
    "- ✅ Data persists across instances\n",
    "- ✅ Dates are sorted and deduplicated\n",
    "- ✅ S3 file has correct JSON format\n",
    "\n",
    "**Next Steps:**\n",
    "1. Deploy DAG to Airflow\n",
    "2. Test with manual trigger\n",
    "3. Verify skip logic\n",
    "4. Start backfilling"
   ]
  }
 ],
 "metadata": {
  "kernelspec": {
   "display_name": "Python 3",
   "language": "python",
   "name": "python3"
  },
  "language_info": {
   "codemirror_mode": {
    "name": "ipython",
    "version": 3
   },
   "file_extension": ".py",
   "mimetype": "text/x-python",
   "name": "python",
   "nbconvert_exporter": "python",
   "pygments_lexer": "ipython3",
   "version": "3.10.0"
  }
 },
 "nbformat": 4,
 "nbformat_minor": 5
}
