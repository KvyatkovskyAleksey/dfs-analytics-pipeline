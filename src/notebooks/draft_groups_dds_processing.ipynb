{
 "cells": [
  {
   "cell_type": "code",
   "id": "initial_id",
   "metadata": {
    "collapsed": true,
    "ExecuteTime": {
     "end_time": "2025-10-17T14:20:17.548873Z",
     "start_time": "2025-10-17T14:20:17.347190Z"
    }
   },
   "source": [
    "import duckdb\n",
    "import os\n",
    "\n",
    "# Get Wasabi credentials from environment\n",
    "wasabi_endpoint = os.getenv('WASABI_ENDPOINT', 's3.us-east-2.wasabisys.com')\n",
    "wasabi_access_key = os.getenv('WASABI_ACCESS_KEY')\n",
    "wasabi_secret_key = os.getenv('WASABI_SECRET_KEY')\n",
    "bucket_name = os.getenv('WASABI_BUCKET_NAME')\n",
    "\n",
    "# Create DuckDB connection\n",
    "con = duckdb.connect()\n",
    "\n",
    "# Configure S3 settings\n",
    "con.execute(f\"\"\"\n",
    "    SET s3_endpoint='{wasabi_endpoint}';\n",
    "    SET s3_access_key_id='{wasabi_access_key}';\n",
    "    SET s3_secret_access_key='{wasabi_secret_key}';\n",
    "    SET s3_url_style='path';\n",
    "    SET preserve_insertion_order = false;\n",
    "    SET enable_progress_bar = true;\n",
    "\"\"\")\n",
    "\n",
    "print(\"✓ DuckDB configured with S3 credentials\")\n",
    "print(f\"Endpoint: {wasabi_endpoint}\")\n",
    "print(f\"Access Key ID: {wasabi_access_key}\")\n",
    "print(f\"Secret Access Key: {wasabi_secret_key}\")\n",
    "print('Bucket Name: ', bucket_name, '\\n\\n')\n"
   ],
   "outputs": [
    {
     "name": "stdout",
     "output_type": "stream",
     "text": [
      "✓ DuckDB configured with S3 credentials\n",
      "Endpoint: s3.us-east-2.wasabisys.com\n",
      "Access Key ID: 60DLEZ81XUCI9ZNG8M3F\n",
      "Secret Access Key: PuOySWLzPCtuts4IfXzWzdHRBefvGKgD0laHOb4B\n",
      "Bucket Name:  dfscrunch-data-lake \n",
      "\n",
      "\n"
     ]
    }
   ],
   "execution_count": 1
  },
  {
   "cell_type": "code",
   "id": "cfac58f68d75cf8d",
   "metadata": {
    "ExecuteTime": {
     "end_time": "2025-10-17T14:20:19.903935Z",
     "start_time": "2025-10-17T14:20:19.901521Z"
    }
   },
   "source": [
    "SPORT = \"NFL\"  # e.g., \"NFL\", \"NBA\", etc.\n",
    "DATE = \"2025-10-02\"  # Format: YYYY-MM-DD\n",
    "GAME_TYPE = \"dk_single_game\"  # e.g., \"classic\", \"dk_single_game\", etc.\n",
    "\n",
    "# Maximum JSON object size (default is 16MB, we're setting to 64MB)\n",
    "MAX_OBJECT_SIZE = 67108864  # 64mb in bytes\n",
    "\n",
    "# Construct path\n",
    "draft_groups_path = f\"s3://{bucket_name}/staging/{SPORT}/draft_groups/{DATE}/data.json.gz\""
   ],
   "outputs": [],
   "execution_count": 2
  },
  {
   "cell_type": "code",
   "id": "aa054cb7acf13f06",
   "metadata": {
    "ExecuteTime": {
     "end_time": "2025-10-17T14:52:33.138152Z",
     "start_time": "2025-10-17T14:52:31.296701Z"
    }
   },
   "source": [
    "df = con.execute(\n",
    "    f\"\"\"\n",
    "    SELECT\n",
    "          \"contest-sources\" ->> 'id' as contest_source_id,\n",
    "          \"contest-sources\" ->> 'source_name' as source_name,\n",
    "          \"contest-sources\" ->> 'display_name' as display_name,\n",
    "          \"contest-sources\" ->> 'short_name' as short_name,\n",
    "          \"contest-sources\" ->> 'is_primary' as is_primary,\n",
    "          \"contest-sources\" ->> 'is_active' as is_active,\n",
    "          -- Draft group fields (flattened)\n",
    "          dg.unnest ->> 'id' as draft_group_id,\n",
    "          dg.unnest ->> 'contest_start_date',\n",
    "          dg.unnest ->> 'contest_end_date',\n",
    "          dg.unnest ->> 'contest_suffix',\n",
    "          dg.unnest ->> 'draft_group_id' as draft_group_reference_id,\n",
    "          dg.unnest ->> 'game_count',\n",
    "          dg.unnest ->> 'is_simlabs',\n",
    "          dg.unnest -> 'sport' ->> 'id' as sport_id,\n",
    "          dg.unnest -> 'sources' ->> 'id' as source_id\n",
    "      FROM read_json_auto('{draft_groups_path}', maximum_object_size={MAX_OBJECT_SIZE}),\n",
    "        unnest(\"contest-sources\".draft_groups) as dg\n",
    "    \"\"\"\n",
    ").df()"
   ],
   "outputs": [],
   "execution_count": 40
  },
  {
   "cell_type": "code",
   "id": "2122eb2ddf1a5928",
   "metadata": {
    "ExecuteTime": {
     "end_time": "2025-10-17T14:52:48.493280Z",
     "start_time": "2025-10-17T14:52:48.484968Z"
    }
   },
   "source": [
    "df"
   ],
   "outputs": [
    {
     "data": {
      "text/plain": [
       "  contest_source_id              source_name       display_name short_name  \\\n",
       "0                 4           draftkings.com         DraftKings         dk   \n",
       "1                 8  draftkings.com showdown  DK Showdown (CPT)              \n",
       "2                 8  draftkings.com showdown  DK Showdown (CPT)              \n",
       "\n",
       "  is_primary is_active draft_group_id (dg.unnest ->> 'contest_start_date')  \\\n",
       "0      false      true         126738                  2025-10-05T13:00:00   \n",
       "1      false      true         126878                  2025-10-06T20:15:00   \n",
       "2      false      true         126766                  2025-10-02T20:15:00   \n",
       "\n",
       "  (dg.unnest ->> 'contest_end_date') (dg.unnest ->> 'contest_suffix')  \\\n",
       "0                0001-01-01T00:00:00                                    \n",
       "1                0001-01-01T00:00:00                       (KC @ JAX)   \n",
       "2                0001-01-01T00:00:00                       (SF @ LAR)   \n",
       "\n",
       "  draft_group_reference_id (dg.unnest ->> 'game_count')  \\\n",
       "0                   134675                           10   \n",
       "1                   134887                            1   \n",
       "2                   134423                            1   \n",
       "\n",
       "  (dg.unnest ->> 'is_simlabs') sport_id source_id  \n",
       "0                        false        1      None  \n",
       "1                        false        1      None  \n",
       "2                        false        1      None  "
      ],
      "text/html": [
       "<div>\n",
       "<style scoped>\n",
       "    .dataframe tbody tr th:only-of-type {\n",
       "        vertical-align: middle;\n",
       "    }\n",
       "\n",
       "    .dataframe tbody tr th {\n",
       "        vertical-align: top;\n",
       "    }\n",
       "\n",
       "    .dataframe thead th {\n",
       "        text-align: right;\n",
       "    }\n",
       "</style>\n",
       "<table border=\"1\" class=\"dataframe\">\n",
       "  <thead>\n",
       "    <tr style=\"text-align: right;\">\n",
       "      <th></th>\n",
       "      <th>contest_source_id</th>\n",
       "      <th>source_name</th>\n",
       "      <th>display_name</th>\n",
       "      <th>short_name</th>\n",
       "      <th>is_primary</th>\n",
       "      <th>is_active</th>\n",
       "      <th>draft_group_id</th>\n",
       "      <th>(dg.unnest -&gt;&gt; 'contest_start_date')</th>\n",
       "      <th>(dg.unnest -&gt;&gt; 'contest_end_date')</th>\n",
       "      <th>(dg.unnest -&gt;&gt; 'contest_suffix')</th>\n",
       "      <th>draft_group_reference_id</th>\n",
       "      <th>(dg.unnest -&gt;&gt; 'game_count')</th>\n",
       "      <th>(dg.unnest -&gt;&gt; 'is_simlabs')</th>\n",
       "      <th>sport_id</th>\n",
       "      <th>source_id</th>\n",
       "    </tr>\n",
       "  </thead>\n",
       "  <tbody>\n",
       "    <tr>\n",
       "      <th>0</th>\n",
       "      <td>4</td>\n",
       "      <td>draftkings.com</td>\n",
       "      <td>DraftKings</td>\n",
       "      <td>dk</td>\n",
       "      <td>false</td>\n",
       "      <td>true</td>\n",
       "      <td>126738</td>\n",
       "      <td>2025-10-05T13:00:00</td>\n",
       "      <td>0001-01-01T00:00:00</td>\n",
       "      <td></td>\n",
       "      <td>134675</td>\n",
       "      <td>10</td>\n",
       "      <td>false</td>\n",
       "      <td>1</td>\n",
       "      <td>None</td>\n",
       "    </tr>\n",
       "    <tr>\n",
       "      <th>1</th>\n",
       "      <td>8</td>\n",
       "      <td>draftkings.com showdown</td>\n",
       "      <td>DK Showdown (CPT)</td>\n",
       "      <td></td>\n",
       "      <td>false</td>\n",
       "      <td>true</td>\n",
       "      <td>126878</td>\n",
       "      <td>2025-10-06T20:15:00</td>\n",
       "      <td>0001-01-01T00:00:00</td>\n",
       "      <td>(KC @ JAX)</td>\n",
       "      <td>134887</td>\n",
       "      <td>1</td>\n",
       "      <td>false</td>\n",
       "      <td>1</td>\n",
       "      <td>None</td>\n",
       "    </tr>\n",
       "    <tr>\n",
       "      <th>2</th>\n",
       "      <td>8</td>\n",
       "      <td>draftkings.com showdown</td>\n",
       "      <td>DK Showdown (CPT)</td>\n",
       "      <td></td>\n",
       "      <td>false</td>\n",
       "      <td>true</td>\n",
       "      <td>126766</td>\n",
       "      <td>2025-10-02T20:15:00</td>\n",
       "      <td>0001-01-01T00:00:00</td>\n",
       "      <td>(SF @ LAR)</td>\n",
       "      <td>134423</td>\n",
       "      <td>1</td>\n",
       "      <td>false</td>\n",
       "      <td>1</td>\n",
       "      <td>None</td>\n",
       "    </tr>\n",
       "  </tbody>\n",
       "</table>\n",
       "</div>"
      ]
     },
     "execution_count": 41,
     "metadata": {},
     "output_type": "execute_result"
    }
   ],
   "execution_count": 41
  }
 ],
 "metadata": {
  "kernelspec": {
   "display_name": "Python 3",
   "language": "python",
   "name": "python3"
  },
  "language_info": {
   "codemirror_mode": {
    "name": "ipython",
    "version": 2
   },
   "file_extension": ".py",
   "mimetype": "text/x-python",
   "name": "python",
   "nbconvert_exporter": "python",
   "pygments_lexer": "ipython2",
   "version": "2.7.6"
  }
 },
 "nbformat": 4,
 "nbformat_minor": 5
}
