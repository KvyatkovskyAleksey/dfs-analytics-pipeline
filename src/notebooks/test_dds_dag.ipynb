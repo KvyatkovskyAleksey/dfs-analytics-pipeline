{
 "cells": [
  {
   "cell_type": "markdown",
   "metadata": {},
   "source": [
    "# DDS DAG Component Testing\n",
    "\n",
    "This notebook tests the components of the DDS DAG before deploying to Airflow."
   ]
  },
  {
   "cell_type": "code",
   "metadata": {
    "ExecuteTime": {
     "end_time": "2025-10-09T00:46:00.020606Z",
     "start_time": "2025-10-09T00:45:59.701092Z"
    }
   },
   "source": [
    "import os\n",
    "import sys\n",
    "from pathlib import Path\n",
    "\n",
    "# Add src to path\n",
    "project_root = Path.cwd().parent\n",
    "sys.path.insert(0, str(project_root))\n",
    "\n",
    "from scripts.date_tracker import DateTracker\n",
    "from scripts.dds.dds_processing import (\n",
    "    process_players_to_dds,\n",
    "    process_users_lineups_to_dds,\n",
    "    process_lineups_to_dds,\n",
    ")\n",
    "from scripts.spiders.rotogrinders_scraper import Sport"
   ],
   "outputs": [],
   "execution_count": 1
  },
  {
   "cell_type": "markdown",
   "metadata": {},
   "source": [
    "## 1. Test DateTracker with Explicit Paths\n",
    "\n",
    "Verify that DateTracker works with custom tracking paths for both staging and DDS."
   ]
  },
  {
   "cell_type": "code",
   "metadata": {
    "ExecuteTime": {
     "end_time": "2025-10-09T00:46:02.412138Z",
     "start_time": "2025-10-09T00:46:02.409416Z"
    }
   },
   "source": [
    "# Test configuration\n",
    "sport: Sport = \"NFL\"\n",
    "test_date = \"2025-09-07\"\n",
    "bucket_name = os.getenv(\"WASABI_BUCKET_NAME\")\n",
    "\n",
    "print(f\"Testing with sport={sport}, date={test_date}, bucket={bucket_name}\")"
   ],
   "outputs": [
    {
     "name": "stdout",
     "output_type": "stream",
     "text": [
      "Testing with sport=NFL, date=2025-09-07, bucket=dfscrunch-data-lake\n"
     ]
    }
   ],
   "execution_count": 2
  },
  {
   "cell_type": "markdown",
   "metadata": {},
   "source": [
    "### 1.1 Test Staging Tracker Path"
   ]
  },
  {
   "cell_type": "code",
   "metadata": {
    "ExecuteTime": {
     "end_time": "2025-10-09T00:46:06.264954Z",
     "start_time": "2025-10-09T00:46:04.883679Z"
    }
   },
   "source": [
    "# Staging tracker (same as used in daily_scraping_dag)\n",
    "staging_tracking_path = f\"s3://{bucket_name}/staging/metadata/{sport}/scraped_dates.json\"\n",
    "print(f\"Staging tracking path: {staging_tracking_path}\")\n",
    "\n",
    "staging_tracker = DateTracker(sport=sport, tracking_path=staging_tracking_path)\n",
    "print(f\"Staging dates: {staging_tracker.get_all_scraped()}\")\n",
    "print(f\"Is {test_date} scraped in staging? {staging_tracker.is_scraped(test_date)}\")"
   ],
   "outputs": [
    {
     "name": "stdout",
     "output_type": "stream",
     "text": [
      "Staging tracking path: s3://dfscrunch-data-lake/staging/metadata/NFL/scraped_dates.json\n",
      "Staging dates: ['2025-08-31', '2025-09-01', '2025-09-02', '2025-09-03', '2025-09-04', '2025-09-05', '2025-09-06', '2025-09-07', '2025-09-08', '2025-09-09', '2025-09-10', '2025-09-11', '2025-09-12', '2025-09-13', '2025-09-14', '2025-09-15', '2025-09-16', '2025-09-17', '2025-09-18', '2025-09-19', '2025-09-20', '2025-09-21', '2025-09-22', '2025-09-23', '2025-09-24', '2025-09-25', '2025-09-26', '2025-09-27', '2025-09-28', '2025-09-29', '2025-09-30', '2025-10-01', '2025-10-02', '2025-10-03', '2025-10-04', '2025-10-05', '2025-10-06', '2025-10-07', '2025-10-08']\n",
      "Is 2025-09-07 scraped in staging? True\n"
     ]
    }
   ],
   "execution_count": 3
  },
  {
   "cell_type": "markdown",
   "metadata": {},
   "source": [
    "### 1.2 Test DDS Tracker Paths (Per Table)"
   ]
  },
  {
   "cell_type": "code",
   "metadata": {
    "ExecuteTime": {
     "end_time": "2025-10-09T00:46:12.223341Z",
     "start_time": "2025-10-09T00:46:10.803416Z"
    }
   },
   "source": [
    "# Test each DDS table tracker\n",
    "dds_tables = [\"players\", \"user_lineups\", \"lineups\"]\n",
    "\n",
    "for table in dds_tables:\n",
    "    tracking_path = f\"s3://{bucket_name}/dds/metadata/{sport}/{table}/processed_dates.json\"\n",
    "    print(f\"\\n{table.upper()} tracking path: {tracking_path}\")\n",
    "    \n",
    "    tracker = DateTracker(sport=sport, tracking_path=tracking_path)\n",
    "    processed_dates = tracker.get_all_scraped()\n",
    "    print(f\"  Processed dates: {processed_dates}\")\n",
    "    print(f\"  Is {test_date} processed? {tracker.is_scraped(test_date)}\")"
   ],
   "outputs": [
    {
     "name": "stdout",
     "output_type": "stream",
     "text": [
      "\n",
      "PLAYERS tracking path: s3://dfscrunch-data-lake/dds/metadata/NFL/players/processed_dates.json\n",
      "  Processed dates: ['2025-09-07']\n",
      "  Is 2025-09-07 processed? True\n",
      "\n",
      "USER_LINEUPS tracking path: s3://dfscrunch-data-lake/dds/metadata/NFL/user_lineups/processed_dates.json\n",
      "  Processed dates: []\n",
      "  Is 2025-09-07 processed? False\n",
      "\n",
      "LINEUPS tracking path: s3://dfscrunch-data-lake/dds/metadata/NFL/lineups/processed_dates.json\n",
      "  Processed dates: ['2025-09-07']\n",
      "  Is 2025-09-07 processed? True\n"
     ]
    }
   ],
   "execution_count": 4
  },
  {
   "cell_type": "markdown",
   "metadata": {},
   "source": [
    "### 1.3 Verify Path Separation\n",
    "\n",
    "Ensure staging and DDS tracking files are completely separate."
   ]
  },
  {
   "cell_type": "code",
   "metadata": {
    "ExecuteTime": {
     "end_time": "2025-10-09T00:46:20.046303Z",
     "start_time": "2025-10-09T00:46:18.311570Z"
    }
   },
   "source": [
    "# This should show different tracking files with different contents\n",
    "import pandas as pd\n",
    "import json\n",
    "\n",
    "storage_options = {\n",
    "    \"client_kwargs\": {\"endpoint_url\": f\"https://{os.getenv('WASABI_ENDPOINT', 's3.us-east-2.wasabisys.com')}\"},\n",
    "    \"key\": os.getenv(\"WASABI_ACCESS_KEY\"),\n",
    "    \"secret\": os.getenv(\"WASABI_SECRET_KEY\"),\n",
    "}\n",
    "\n",
    "print(\"\\nDirect S3 file inspection:\")\n",
    "print(\"\\n1. Staging tracking file:\")\n",
    "try:\n",
    "    with pd.io.common.get_handle(\n",
    "        staging_tracking_path, mode=\"r\", storage_options=storage_options\n",
    "    ) as handles:\n",
    "        print(json.dumps(json.load(handles.handle), indent=2))\n",
    "except FileNotFoundError:\n",
    "    print(\"  File not found (expected if no staging runs yet)\")\n",
    "\n",
    "print(\"\\n2. DDS tracking files:\")\n",
    "for table in dds_tables:\n",
    "    tracking_path = f\"s3://{bucket_name}/dds/metadata/{sport}/{table}/processed_dates.json\"\n",
    "    print(f\"\\n  {table}:\")\n",
    "    try:\n",
    "        with pd.io.common.get_handle(\n",
    "            tracking_path, mode=\"r\", storage_options=storage_options\n",
    "        ) as handles:\n",
    "            print(f\"    {json.dumps(json.load(handles.handle), indent=2)}\")\n",
    "    except FileNotFoundError:\n",
    "        print(\"    File not found (expected if no DDS runs yet)\")"
   ],
   "outputs": [
    {
     "name": "stdout",
     "output_type": "stream",
     "text": [
      "\n",
      "Direct S3 file inspection:\n",
      "\n",
      "1. Staging tracking file:\n",
      "[\n",
      "  \"2025-08-31\",\n",
      "  \"2025-09-01\",\n",
      "  \"2025-09-02\",\n",
      "  \"2025-09-03\",\n",
      "  \"2025-09-04\",\n",
      "  \"2025-09-05\",\n",
      "  \"2025-09-06\",\n",
      "  \"2025-09-07\",\n",
      "  \"2025-09-08\",\n",
      "  \"2025-09-09\",\n",
      "  \"2025-09-10\",\n",
      "  \"2025-09-11\",\n",
      "  \"2025-09-12\",\n",
      "  \"2025-09-13\",\n",
      "  \"2025-09-14\",\n",
      "  \"2025-09-15\",\n",
      "  \"2025-09-16\",\n",
      "  \"2025-09-17\",\n",
      "  \"2025-09-18\",\n",
      "  \"2025-09-19\",\n",
      "  \"2025-09-20\",\n",
      "  \"2025-09-21\",\n",
      "  \"2025-09-22\",\n",
      "  \"2025-09-23\",\n",
      "  \"2025-09-24\",\n",
      "  \"2025-09-25\",\n",
      "  \"2025-09-26\",\n",
      "  \"2025-09-27\",\n",
      "  \"2025-09-28\",\n",
      "  \"2025-09-29\",\n",
      "  \"2025-09-30\",\n",
      "  \"2025-10-01\",\n",
      "  \"2025-10-02\",\n",
      "  \"2025-10-03\",\n",
      "  \"2025-10-04\",\n",
      "  \"2025-10-05\",\n",
      "  \"2025-10-06\",\n",
      "  \"2025-10-07\",\n",
      "  \"2025-10-08\"\n",
      "]\n",
      "\n",
      "2. DDS tracking files:\n",
      "\n",
      "  players:\n",
      "    [\n",
      "  \"2025-09-07\"\n",
      "]\n",
      "\n",
      "  user_lineups:\n",
      "    File not found (expected if no DDS runs yet)\n",
      "\n",
      "  lineups:\n",
      "    [\n",
      "  \"2025-09-07\"\n",
      "]\n"
     ]
    }
   ],
   "execution_count": 5
  },
  {
   "cell_type": "markdown",
   "metadata": {},
   "source": [
    "## 2. Test Wrapper Functions\n",
    "\n",
    "Test each DDS processing function individually."
   ]
  },
  {
   "cell_type": "markdown",
   "metadata": {},
   "source": [
    "### 2.1 Test Players Processing"
   ]
  },
  {
   "cell_type": "code",
   "metadata": {
    "ExecuteTime": {
     "start_time": "2025-10-09T00:45:19.297148Z"
    }
   },
   "source": [
    "# Test players processing (requires staging data to exist)\n",
    "try:\n",
    "    print(f\"Processing players for {sport} on {test_date}...\")\n",
    "    process_players_to_dds(date=test_date, sport=sport)\n",
    "    print(\"✅ Players processing completed successfully\")\n",
    "except Exception as e:\n",
    "    print(f\"❌ Players processing failed: {e}\")"
   ],
   "outputs": [
    {
     "name": "stdout",
     "output_type": "stream",
     "text": [
      "Processing players for NFL on 2025-09-07...\n"
     ]
    }
   ],
   "execution_count": null
  },
  {
   "cell_type": "markdown",
   "metadata": {},
   "source": [
    "### 2.2 Test Users/Lineups Processing"
   ]
  },
  {
   "cell_type": "code",
   "metadata": {
    "ExecuteTime": {
     "end_time": "2025-10-09T00:56:32.583369Z",
     "start_time": "2025-10-09T00:46:30.050279Z"
    }
   },
   "source": [
    "# Test users_lineups processing\n",
    "try:\n",
    "    print(f\"Processing users_lineups for {sport} on {test_date}...\")\n",
    "    process_users_lineups_to_dds(date=test_date, sport=sport)\n",
    "    print(\"✅ Users/lineups processing completed successfully\")\n",
    "except Exception as e:\n",
    "    print(f\"❌ Users/lineups processing failed: {e}\")"
   ],
   "outputs": [
    {
     "name": "stdout",
     "output_type": "stream",
     "text": [
      "Processing users_lineups for NFL on 2025-09-07...\n"
     ]
    },
    {
     "data": {
      "text/plain": [
       "FloatProgress(value=0.0, layout=Layout(width='auto'), style=ProgressStyle(bar_color='black'))"
      ],
      "application/vnd.jupyter.widget-view+json": {
       "version_major": 2,
       "version_minor": 0,
       "model_id": "90179b0831304e36a3ac25dc48a821b4"
      }
     },
     "metadata": {},
     "output_type": "display_data"
    },
    {
     "data": {
      "text/plain": [
       "FloatProgress(value=0.0, layout=Layout(width='auto'), style=ProgressStyle(bar_color='black'))"
      ],
      "application/vnd.jupyter.widget-view+json": {
       "version_major": 2,
       "version_minor": 0,
       "model_id": "f39ffae2f4ee4b6c8a4dfebfe27cf732"
      }
     },
     "metadata": {},
     "output_type": "display_data"
    },
    {
     "data": {
      "text/plain": [
       "FloatProgress(value=0.0, layout=Layout(width='auto'), style=ProgressStyle(bar_color='black'))"
      ],
      "application/vnd.jupyter.widget-view+json": {
       "version_major": 2,
       "version_minor": 0,
       "model_id": "41b77b7a44c147c0b979731553aa0580"
      }
     },
     "metadata": {},
     "output_type": "display_data"
    },
    {
     "data": {
      "text/plain": [
       "FloatProgress(value=0.0, layout=Layout(width='auto'), style=ProgressStyle(bar_color='black'))"
      ],
      "application/vnd.jupyter.widget-view+json": {
       "version_major": 2,
       "version_minor": 0,
       "model_id": "80103b45a4074dbbbac887488ffc2d95"
      }
     },
     "metadata": {},
     "output_type": "display_data"
    },
    {
     "data": {
      "text/plain": [
       "FloatProgress(value=0.0, layout=Layout(width='auto'), style=ProgressStyle(bar_color='black'))"
      ],
      "application/vnd.jupyter.widget-view+json": {
       "version_major": 2,
       "version_minor": 0,
       "model_id": "fde34a61f3f24f9fa26da4b2e02728d2"
      }
     },
     "metadata": {},
     "output_type": "display_data"
    },
    {
     "data": {
      "text/plain": [
       "FloatProgress(value=0.0, layout=Layout(width='auto'), style=ProgressStyle(bar_color='black'))"
      ],
      "application/vnd.jupyter.widget-view+json": {
       "version_major": 2,
       "version_minor": 0,
       "model_id": "4c76711ec99446c8b86d2cc819fc39fe"
      }
     },
     "metadata": {},
     "output_type": "display_data"
    },
    {
     "data": {
      "text/plain": [
       "FloatProgress(value=0.0, layout=Layout(width='auto'), style=ProgressStyle(bar_color='black'))"
      ],
      "application/vnd.jupyter.widget-view+json": {
       "version_major": 2,
       "version_minor": 0,
       "model_id": "1825e526f0d7475ebf54a806bcf55db1"
      }
     },
     "metadata": {},
     "output_type": "display_data"
    },
    {
     "name": "stdout",
     "output_type": "stream",
     "text": [
      "✅ Users/lineups processing completed successfully\n"
     ]
    }
   ],
   "execution_count": 6
  },
  {
   "cell_type": "markdown",
   "metadata": {},
   "source": [
    "### 2.3 Test Lineups Processing"
   ]
  },
  {
   "cell_type": "code",
   "metadata": {},
   "source": [
    "# Test lineups processing\n",
    "try:\n",
    "    print(f\"Processing lineups for {sport} on {test_date}...\")\n",
    "    process_lineups_to_dds(date=test_date, sport=sport)\n",
    "    print(\"✅ Lineups processing completed successfully\")\n",
    "except Exception as e:\n",
    "    print(f\"❌ Lineups processing failed: {e}\")"
   ],
   "outputs": [],
   "execution_count": null
  },
  {
   "cell_type": "markdown",
   "metadata": {},
   "source": [
    "## 3. Test Tracking File Updates\n",
    "\n",
    "Verify that marking dates as processed works correctly."
   ]
  },
  {
   "cell_type": "code",
   "metadata": {
    "ExecuteTime": {
     "end_time": "2025-10-09T00:56:36.449037Z",
     "start_time": "2025-10-09T00:56:32.600423Z"
    }
   },
   "source": [
    "# Test marking a date as processed for each table\n",
    "for table in dds_tables:\n",
    "    tracking_path = f\"s3://{bucket_name}/dds/metadata/{sport}/{table}/processed_dates.json\"\n",
    "    tracker = DateTracker(sport=sport, tracking_path=tracking_path)\n",
    "    \n",
    "    print(f\"\\n{table}:\")\n",
    "    print(f\"  Before: {tracker.get_all_scraped()}\")\n",
    "    \n",
    "    tracker.mark_scraped(test_date)\n",
    "    print(f\"  After marking {test_date}: {tracker.get_all_scraped()}\")\n",
    "    \n",
    "    # Verify persistence (create new instance)\n",
    "    new_tracker = DateTracker(sport=sport, tracking_path=tracking_path)\n",
    "    print(f\"  Persistence check: {new_tracker.get_all_scraped()}\")\n",
    "    print(f\"  Is {test_date} in tracking? {new_tracker.is_scraped(test_date)}\")"
   ],
   "outputs": [
    {
     "name": "stdout",
     "output_type": "stream",
     "text": [
      "\n",
      "players:\n",
      "  Before: ['2025-09-07']\n",
      "  After marking 2025-09-07: ['2025-09-07']\n",
      "  Persistence check: ['2025-09-07']\n",
      "  Is 2025-09-07 in tracking? True\n",
      "\n",
      "user_lineups:\n",
      "  Before: []\n",
      "  After marking 2025-09-07: ['2025-09-07']\n",
      "  Persistence check: ['2025-09-07']\n",
      "  Is 2025-09-07 in tracking? True\n",
      "\n",
      "lineups:\n",
      "  Before: ['2025-09-07']\n",
      "  After marking 2025-09-07: ['2025-09-07']\n",
      "  Persistence check: ['2025-09-07']\n",
      "  Is 2025-09-07 in tracking? True\n"
     ]
    }
   ],
   "execution_count": 7
  },
  {
   "cell_type": "markdown",
   "metadata": {},
   "source": [
    "## 4. Verify S3 Output Structure\n",
    "\n",
    "Check that DDS output files are created in the correct locations."
   ]
  },
  {
   "cell_type": "code",
   "metadata": {
    "ExecuteTime": {
     "end_time": "2025-10-09T00:56:38.185735Z",
     "start_time": "2025-10-09T00:56:36.525637Z"
    }
   },
   "source": [
    "# List DDS output files for the test date\n",
    "import s3fs\n",
    "\n",
    "s3 = s3fs.S3FileSystem(\n",
    "    client_kwargs={\"endpoint_url\": f\"https://{os.getenv('WASABI_ENDPOINT', 's3.us-east-2.wasabisys.com')}\"},\n",
    "    key=os.getenv(\"WASABI_ACCESS_KEY\"),\n",
    "    secret=os.getenv(\"WASABI_SECRET_KEY\"),\n",
    ")\n",
    "\n",
    "slate_types = [\"dk_classic\", \"dk_single_game\"]\n",
    "\n",
    "print(f\"\\nDDS output files for {sport}/{test_date}:\\n\")\n",
    "\n",
    "for table in dds_tables:\n",
    "    print(f\"\\n{table.upper()}:\")\n",
    "    for slate_type in slate_types:\n",
    "        path = f\"{bucket_name}/dds/{sport}/{table}/{slate_type}/{test_date}/data.parquet\"\n",
    "        exists = s3.exists(path)\n",
    "        if exists:\n",
    "            size = s3.size(path)\n",
    "            print(f\"  ✅ {slate_type}: {size:,} bytes\")\n",
    "        else:\n",
    "            print(f\"  ❌ {slate_type}: NOT FOUND\")"
   ],
   "outputs": [
    {
     "name": "stdout",
     "output_type": "stream",
     "text": [
      "\n",
      "DDS output files for NFL/2025-09-07:\n",
      "\n",
      "\n",
      "PLAYERS:\n",
      "  ✅ dk_classic: 112,765 bytes\n",
      "  ✅ dk_single_game: 11,668 bytes\n",
      "\n",
      "USER_LINEUPS:\n",
      "  ✅ dk_classic: 24,408,139 bytes\n",
      "  ✅ dk_single_game: 1,953,455 bytes\n",
      "\n",
      "LINEUPS:\n",
      "  ✅ dk_classic: 80,029,270 bytes\n",
      "  ✅ dk_single_game: 3,418,385 bytes\n"
     ]
    }
   ],
   "execution_count": 8
  },
  {
   "cell_type": "markdown",
   "metadata": {},
   "source": [
    "## 5. Summary\n",
    "\n",
    "Review test results before deploying to Airflow."
   ]
  },
  {
   "cell_type": "code",
   "metadata": {},
   "source": [
    "print(\"\"\"\n",
    "✅ TESTS TO VERIFY:\n",
    "\n",
    "1. DateTracker:\n",
    "   - Accepts explicit tracking_path parameter ✓\n",
    "   - Staging and DDS tracking files are separate ✓\n",
    "   - Per-table tracking works independently ✓\n",
    "\n",
    "2. Wrapper Functions:\n",
    "   - process_players_to_dds() uses context manager ✓\n",
    "   - process_users_lineups_to_dds() uses context manager ✓\n",
    "   - process_lineups_to_dds() uses context manager ✓\n",
    "\n",
    "3. Tracking Persistence:\n",
    "   - Dates are saved to S3 correctly ✓\n",
    "   - New tracker instances load existing dates ✓\n",
    "   - Duplicate dates are handled gracefully ✓\n",
    "\n",
    "4. S3 Output:\n",
    "   - DDS files created in correct locations ✓\n",
    "   - Parquet files are readable ✓\n",
    "\n",
    "📋 READY FOR AIRFLOW TESTING:\n",
    "   - Verify DAG appears in Airflow UI without errors\n",
    "   - Manual trigger for specific date\n",
    "   - Check all three tables process successfully\n",
    "   - Test skip logic (re-run same date)\n",
    "\"\"\")"
   ],
   "outputs": [],
   "execution_count": null
  }
 ],
 "metadata": {
  "kernelspec": {
   "display_name": "Python 3",
   "language": "python",
   "name": "python3"
  },
  "language_info": {
   "name": "python",
   "version": "3.12.0"
  }
 },
 "nbformat": 4,
 "nbformat_minor": 4
}
