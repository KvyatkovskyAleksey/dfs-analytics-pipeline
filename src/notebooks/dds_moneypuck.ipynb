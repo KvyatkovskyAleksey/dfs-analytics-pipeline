{
 "cells": [
  {
   "cell_type": "code",
   "id": "initial_id",
   "metadata": {
    "collapsed": true,
    "ExecuteTime": {
     "end_time": "2025-11-01T21:42:26.906922Z",
     "start_time": "2025-11-01T21:42:26.871871Z"
    }
   },
   "source": [
    "import duckdb\n",
    "import os\n",
    "\n",
    "# Get Wasabi credentials from environment\n",
    "wasabi_endpoint = os.getenv('WASABI_ENDPOINT', 's3.us-east-2.wasabisys.com')\n",
    "wasabi_access_key = os.getenv('WASABI_ACCESS_KEY')\n",
    "wasabi_secret_key = os.getenv('WASABI_SECRET_KEY')\n",
    "bucket_name = os.getenv('WASABI_BUCKET_NAME')\n",
    "\n",
    "# Create DuckDB connection\n",
    "con = duckdb.connect()\n",
    "\n",
    "# Configure S3 settings\n",
    "con.execute(f\"\"\"\n",
    "    SET s3_endpoint='{wasabi_endpoint}';\n",
    "    SET s3_access_key_id='{wasabi_access_key}';\n",
    "    SET s3_secret_access_key='{wasabi_secret_key}';\n",
    "    SET s3_url_style='path';\n",
    "    SET preserve_insertion_order = false;\n",
    "    SET enable_progress_bar = true;\n",
    "\"\"\")\n",
    "\n",
    "print(\"✓ DuckDB configured with S3 credentials\")\n",
    "print(f\"Endpoint: {wasabi_endpoint}\")\n",
    "print(f\"Access Key ID: {wasabi_access_key}\")\n",
    "print(f\"Secret Access Key: {wasabi_secret_key}\")\n",
    "print('Bucket Name: ', bucket_name, '\\n\\n')\n"
   ],
   "outputs": [
    {
     "name": "stdout",
     "output_type": "stream",
     "text": [
      "✓ DuckDB configured with S3 credentials\n",
      "Endpoint: s3.us-east-2.wasabisys.com\n",
      "Access Key ID: 60DLEZ81XUCI9ZNG8M3F\n",
      "Secret Access Key: PuOySWLzPCtuts4IfXzWzdHRBefvGKgD0laHOb4B\n",
      "Bucket Name:  dfscrunch-data-lake \n",
      "\n",
      "\n"
     ]
    }
   ],
   "execution_count": 92
  },
  {
   "metadata": {
    "ExecuteTime": {
     "end_time": "2025-11-01T21:59:42.912895Z",
     "start_time": "2025-11-01T21:59:42.148862Z"
    }
   },
   "cell_type": "code",
   "source": [
    "players_path = f's3://{bucket_name}/staging/NHL/moneypuck/players/*/data.parquet'\n",
    "df = con.execute(f\"\"\"\n",
    "with players as (\n",
    "  select\n",
    "    playerName,\n",
    "    team,\n",
    "    I_F_iceTime,\n",
    "    iceTimeRank,\n",
    "    position,\n",
    "    situation,\n",
    "    split_part(filename, '/', 8) as game_date\n",
    "    from read_parquet('{players_path}', filename=true)\n",
    "    where situation = '5on5' and position = any(array['line', 'pairing', 'G'])\n",
    "),\n",
    "lines_players_raw as (\n",
    "  select\n",
    "    *,\n",
    "    playerName.split('-') as last_names,\n",
    "    'f' || iceTimeRank::string as line,\n",
    "    from players\n",
    "      where position = 'line' and iceTimeRank <= 4\n",
    "        order by iceTimeRank asc\n",
    "),\n",
    "lines_players as (\n",
    "  SELECT\n",
    "    unnest(last_names) as last_name,\n",
    "    * from lines_players_raw\n",
    "),\n",
    "defense_players_raw as (\n",
    "  select\n",
    "    *,\n",
    "    playerName.split('-') as last_names,\n",
    "    'd' || iceTimeRank::string as line,\n",
    "  from players\n",
    "    where position = 'pairing' and iceTimeRank <= 3\n",
    "      order by iceTimeRank asc\n",
    "),\n",
    "defense_players as (\n",
    "  SELECT\n",
    "  unnest(last_names) as last_name,\n",
    "  * from defense_players_raw\n",
    "),\n",
    "goalie_players as (\n",
    "  select\n",
    "   *,\n",
    "   playerName as player_name,\n",
    "   'G1' as line,\n",
    "   from players\n",
    "  where position = 'G' and iceTimeRank = -1\n",
    "  order by I_F_iceTime asc\n",
    ")\n",
    "SELECT\n",
    "  game_date,\n",
    "  trim(last_name) as last_name,\n",
    "  team,\n",
    "  line,\n",
    "  from lines_players\n",
    "  union\n",
    "   select\n",
    "   game_date,\n",
    "    trim(last_name) as last_name,\n",
    "    team,\n",
    "  line,\n",
    "   from defense_players\n",
    "  union select\n",
    "   game_date,\n",
    "    trim(playerName) as last_name,\n",
    "    team,\n",
    "  line,\n",
    "    from goalie_players\n",
    "\"\"\").df()"
   ],
   "id": "68d7487e81f69755",
   "outputs": [],
   "execution_count": 117
  },
  {
   "metadata": {
    "ExecuteTime": {
     "end_time": "2025-11-01T21:59:45.413260Z",
     "start_time": "2025-11-01T21:59:45.408097Z"
    }
   },
   "cell_type": "code",
   "source": "df.head()",
   "id": "c8f982ee4d21e121",
   "outputs": [
    {
     "data": {
      "text/plain": [
       "    game_date          last_name team line\n",
       "0  2025-10-18       Devin Cooley  CGY   G1\n",
       "1  2025-10-24        Eric Comrie  WPG   G1\n",
       "2  2025-10-13        Juuse Saros  NSH   G1\n",
       "3  2025-10-20  Connor Hellebuyck  WPG   G1\n",
       "4  2025-10-28       Ilya Sorokin  NYI   G1"
      ],
      "text/html": [
       "<div>\n",
       "<style scoped>\n",
       "    .dataframe tbody tr th:only-of-type {\n",
       "        vertical-align: middle;\n",
       "    }\n",
       "\n",
       "    .dataframe tbody tr th {\n",
       "        vertical-align: top;\n",
       "    }\n",
       "\n",
       "    .dataframe thead th {\n",
       "        text-align: right;\n",
       "    }\n",
       "</style>\n",
       "<table border=\"1\" class=\"dataframe\">\n",
       "  <thead>\n",
       "    <tr style=\"text-align: right;\">\n",
       "      <th></th>\n",
       "      <th>game_date</th>\n",
       "      <th>last_name</th>\n",
       "      <th>team</th>\n",
       "      <th>line</th>\n",
       "    </tr>\n",
       "  </thead>\n",
       "  <tbody>\n",
       "    <tr>\n",
       "      <th>0</th>\n",
       "      <td>2025-10-18</td>\n",
       "      <td>Devin Cooley</td>\n",
       "      <td>CGY</td>\n",
       "      <td>G1</td>\n",
       "    </tr>\n",
       "    <tr>\n",
       "      <th>1</th>\n",
       "      <td>2025-10-24</td>\n",
       "      <td>Eric Comrie</td>\n",
       "      <td>WPG</td>\n",
       "      <td>G1</td>\n",
       "    </tr>\n",
       "    <tr>\n",
       "      <th>2</th>\n",
       "      <td>2025-10-13</td>\n",
       "      <td>Juuse Saros</td>\n",
       "      <td>NSH</td>\n",
       "      <td>G1</td>\n",
       "    </tr>\n",
       "    <tr>\n",
       "      <th>3</th>\n",
       "      <td>2025-10-20</td>\n",
       "      <td>Connor Hellebuyck</td>\n",
       "      <td>WPG</td>\n",
       "      <td>G1</td>\n",
       "    </tr>\n",
       "    <tr>\n",
       "      <th>4</th>\n",
       "      <td>2025-10-28</td>\n",
       "      <td>Ilya Sorokin</td>\n",
       "      <td>NYI</td>\n",
       "      <td>G1</td>\n",
       "    </tr>\n",
       "  </tbody>\n",
       "</table>\n",
       "</div>"
      ]
     },
     "execution_count": 118,
     "metadata": {},
     "output_type": "execute_result"
    }
   ],
   "execution_count": 118
  },
  {
   "metadata": {
    "ExecuteTime": {
     "end_time": "2025-11-01T21:17:06.804901Z",
     "start_time": "2025-11-01T21:17:06.800938Z"
    }
   },
   "cell_type": "code",
   "source": "list(df.columns)\n",
   "id": "22b6c5eb6cb12947",
   "outputs": [
    {
     "data": {
      "text/plain": [
       "['playerName',\n",
       " 'team',\n",
       " 'I_F_iceTime',\n",
       " 'iceTimeRank',\n",
       " 'position',\n",
       " 'situation',\n",
       " 'game_date',\n",
       " 'line']"
      ]
     },
     "execution_count": 82,
     "metadata": {},
     "output_type": "execute_result"
    }
   ],
   "execution_count": 82
  },
  {
   "metadata": {
    "ExecuteTime": {
     "end_time": "2025-11-01T21:17:10.057374Z",
     "start_time": "2025-11-01T21:17:10.053570Z"
    }
   },
   "cell_type": "code",
   "source": "df.position.drop_duplicates()",
   "id": "7bf2534e3023f933",
   "outputs": [
    {
     "data": {
      "text/plain": [
       "0           G\n",
       "21    pairing\n",
       "75       line\n",
       "Name: position, dtype: object"
      ]
     },
     "execution_count": 83,
     "metadata": {},
     "output_type": "execute_result"
    }
   ],
   "execution_count": 83
  },
  {
   "metadata": {
    "ExecuteTime": {
     "end_time": "2025-11-01T21:17:14.162698Z",
     "start_time": "2025-11-01T21:17:14.155784Z"
    }
   },
   "cell_type": "code",
   "source": "df[['playerName', 'team', 'I_F_iceTime', 'iceTimeRank']]",
   "id": "3ace37ee40f8b247",
   "outputs": [
    {
     "data": {
      "text/plain": [
       "                        playerName team  I_F_iceTime  iceTimeRank\n",
       "0                 Philipp Grubauer  SEA        917.0           -1\n",
       "1                      Trent Miner  COL       1730.0           -1\n",
       "2                  Scott Wedgewood  COL       2537.0           -1\n",
       "3                   Thatcher Demko  VAN       2602.0           -1\n",
       "4                       Cam Talbot  DET       2614.0           -1\n",
       "...                            ...  ...          ...          ...\n",
       "2660  Johnston-Poehling-Nesterenko  ANA        282.0            4\n",
       "2661     Gatcomb-Cizikas-Tsyplakov  NYI        464.0            4\n",
       "2662   Holloway-Sundqvist-Bjugstad  STL        304.0            4\n",
       "2663         Carcone-Mcbain-Crouse  UTA        249.0            4\n",
       "2664            Blais-Domi-Lorentz  TOR        312.0            4\n",
       "\n",
       "[2665 rows x 4 columns]"
      ],
      "text/html": [
       "<div>\n",
       "<style scoped>\n",
       "    .dataframe tbody tr th:only-of-type {\n",
       "        vertical-align: middle;\n",
       "    }\n",
       "\n",
       "    .dataframe tbody tr th {\n",
       "        vertical-align: top;\n",
       "    }\n",
       "\n",
       "    .dataframe thead th {\n",
       "        text-align: right;\n",
       "    }\n",
       "</style>\n",
       "<table border=\"1\" class=\"dataframe\">\n",
       "  <thead>\n",
       "    <tr style=\"text-align: right;\">\n",
       "      <th></th>\n",
       "      <th>playerName</th>\n",
       "      <th>team</th>\n",
       "      <th>I_F_iceTime</th>\n",
       "      <th>iceTimeRank</th>\n",
       "    </tr>\n",
       "  </thead>\n",
       "  <tbody>\n",
       "    <tr>\n",
       "      <th>0</th>\n",
       "      <td>Philipp Grubauer</td>\n",
       "      <td>SEA</td>\n",
       "      <td>917.0</td>\n",
       "      <td>-1</td>\n",
       "    </tr>\n",
       "    <tr>\n",
       "      <th>1</th>\n",
       "      <td>Trent Miner</td>\n",
       "      <td>COL</td>\n",
       "      <td>1730.0</td>\n",
       "      <td>-1</td>\n",
       "    </tr>\n",
       "    <tr>\n",
       "      <th>2</th>\n",
       "      <td>Scott Wedgewood</td>\n",
       "      <td>COL</td>\n",
       "      <td>2537.0</td>\n",
       "      <td>-1</td>\n",
       "    </tr>\n",
       "    <tr>\n",
       "      <th>3</th>\n",
       "      <td>Thatcher Demko</td>\n",
       "      <td>VAN</td>\n",
       "      <td>2602.0</td>\n",
       "      <td>-1</td>\n",
       "    </tr>\n",
       "    <tr>\n",
       "      <th>4</th>\n",
       "      <td>Cam Talbot</td>\n",
       "      <td>DET</td>\n",
       "      <td>2614.0</td>\n",
       "      <td>-1</td>\n",
       "    </tr>\n",
       "    <tr>\n",
       "      <th>...</th>\n",
       "      <td>...</td>\n",
       "      <td>...</td>\n",
       "      <td>...</td>\n",
       "      <td>...</td>\n",
       "    </tr>\n",
       "    <tr>\n",
       "      <th>2660</th>\n",
       "      <td>Johnston-Poehling-Nesterenko</td>\n",
       "      <td>ANA</td>\n",
       "      <td>282.0</td>\n",
       "      <td>4</td>\n",
       "    </tr>\n",
       "    <tr>\n",
       "      <th>2661</th>\n",
       "      <td>Gatcomb-Cizikas-Tsyplakov</td>\n",
       "      <td>NYI</td>\n",
       "      <td>464.0</td>\n",
       "      <td>4</td>\n",
       "    </tr>\n",
       "    <tr>\n",
       "      <th>2662</th>\n",
       "      <td>Holloway-Sundqvist-Bjugstad</td>\n",
       "      <td>STL</td>\n",
       "      <td>304.0</td>\n",
       "      <td>4</td>\n",
       "    </tr>\n",
       "    <tr>\n",
       "      <th>2663</th>\n",
       "      <td>Carcone-Mcbain-Crouse</td>\n",
       "      <td>UTA</td>\n",
       "      <td>249.0</td>\n",
       "      <td>4</td>\n",
       "    </tr>\n",
       "    <tr>\n",
       "      <th>2664</th>\n",
       "      <td>Blais-Domi-Lorentz</td>\n",
       "      <td>TOR</td>\n",
       "      <td>312.0</td>\n",
       "      <td>4</td>\n",
       "    </tr>\n",
       "  </tbody>\n",
       "</table>\n",
       "<p>2665 rows × 4 columns</p>\n",
       "</div>"
      ]
     },
     "execution_count": 84,
     "metadata": {},
     "output_type": "execute_result"
    }
   ],
   "execution_count": 84
  }
 ],
 "metadata": {
  "kernelspec": {
   "display_name": "Python 3",
   "language": "python",
   "name": "python3"
  },
  "language_info": {
   "codemirror_mode": {
    "name": "ipython",
    "version": 2
   },
   "file_extension": ".py",
   "mimetype": "text/x-python",
   "name": "python",
   "nbconvert_exporter": "python",
   "pygments_lexer": "ipython2",
   "version": "2.7.6"
  }
 },
 "nbformat": 4,
 "nbformat_minor": 5
}
